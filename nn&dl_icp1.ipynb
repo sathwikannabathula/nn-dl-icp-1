{
  "nbformat": 4,
  "nbformat_minor": 0,
  "metadata": {
    "colab": {
      "provenance": []
    },
    "kernelspec": {
      "name": "python3",
      "display_name": "Python 3"
    },
    "language_info": {
      "name": "python"
    }
  },
  "cells": [
    {
      "cell_type": "code",
      "execution_count": 1,
      "metadata": {
        "colab": {
          "base_uri": "https://localhost:8080/"
        },
        "id": "3Nq3_6me6s8I",
        "outputId": "e7f652d7-c1ea-481f-fe19-c93fffdd57e8"
      },
      "outputs": [
        {
          "output_type": "stream",
          "name": "stdout",
          "text": [
            "ntyp\n"
          ]
        }
      ],
      "source": [
        "givenStr = \"python\";\n",
        "givenStr = givenStr.replace('h','');\n",
        "givenStr = givenStr.replace('o','');\n",
        "print(givenStr[::-1]);"
      ]
    },
    {
      "cell_type": "code",
      "source": [
        "a = int(input(\"Enter first number: \"))\n",
        "b = int(input(\"Enter second number: \"))\n",
        "print(\"Addition : \",a + b)\n",
        "print(\"Multiplication : \",a * b)\n",
        "print(\"Subtraction : \",a - b)\n",
        "print(\"Division : \",a / b)"
      ],
      "metadata": {
        "colab": {
          "base_uri": "https://localhost:8080/"
        },
        "id": "f-XagHyf6zYp",
        "outputId": "3b7e473f-bcfb-4529-a134-388343a6cf1f"
      },
      "execution_count": 2,
      "outputs": [
        {
          "output_type": "stream",
          "name": "stdout",
          "text": [
            "Enter first number: 3\n",
            "Enter second number: 5\n",
            "Addition :  8\n",
            "Multiplication :  15\n",
            "Subtraction :  -2\n",
            "Division :  0.6\n"
          ]
        }
      ]
    },
    {
      "cell_type": "code",
      "source": [
        "str = \"I love playing with python\"\n",
        "str = str.replace('python', 'pythons')\n",
        "print(str)"
      ],
      "metadata": {
        "colab": {
          "base_uri": "https://localhost:8080/"
        },
        "id": "SjMDND9N7KRD",
        "outputId": "8606f669-71a7-4645-fad8-60a6fef6e666"
      },
      "execution_count": 6,
      "outputs": [
        {
          "output_type": "stream",
          "name": "stdout",
          "text": [
            "I love playing with pythons\n"
          ]
        }
      ]
    },
    {
      "cell_type": "code",
      "source": [
        "print(\"Enter Marks Obtained in : \");\n",
        "\n",
        "markOne = int(input())\n",
        "\n",
        "if markOne <= 100:\n",
        "\n",
        "    if markOne>=90 and markOne<=100:\n",
        "\n",
        "        print(\"Your Grade is A\")\n",
        "\n",
        "    elif markOne>=80 and markOne<89:\n",
        "\n",
        "        print(\"Your Grade is B\")\n",
        "\n",
        "    elif markOne>=70 and markOne<79:\n",
        "\n",
        "        print(\"Your Grade is C\")\n",
        "\n",
        "    elif markOne>=60 and markOne<69:\n",
        "\n",
        "        print(\"Your Grade is D\")\n",
        "\n",
        "    else:\n",
        "\n",
        "        print(\"Your Grade is F\")\n",
        "\n",
        "else:\n",
        "\n",
        "    print(\"Invalid Input!\")\n"
      ],
      "metadata": {
        "colab": {
          "base_uri": "https://localhost:8080/"
        },
        "id": "zdjB--uc7ZHY",
        "outputId": "7155a908-27dc-4be2-ac3f-60ef2fad2064"
      },
      "execution_count": 4,
      "outputs": [
        {
          "output_type": "stream",
          "name": "stdout",
          "text": [
            "Enter Marks Obtained in : \n",
            "92\n",
            "Your Grade is A\n"
          ]
        }
      ]
    }
  ]
}